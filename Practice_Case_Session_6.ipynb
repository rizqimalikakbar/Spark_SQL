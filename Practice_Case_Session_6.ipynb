{
  "nbformat": 4,
  "nbformat_minor": 0,
  "metadata": {
    "colab": {
      "provenance": [],
      "collapsed_sections": [
        "WsUj1YBJ-aMH"
      ]
    },
    "kernelspec": {
      "name": "python3",
      "display_name": "Python 3"
    },
    "language_info": {
      "name": "python"
    }
  },
  "cells": [
    {
      "cell_type": "markdown",
      "source": [
        "#Install Pyspark & Preparation"
      ],
      "metadata": {
        "id": "WsUj1YBJ-aMH"
      }
    },
    {
      "cell_type": "code",
      "source": [
        "!pip install -q findspark"
      ],
      "metadata": {
        "id": "jdlVlLAm-lQ5"
      },
      "execution_count": 119,
      "outputs": []
    },
    {
      "cell_type": "code",
      "source": [
        "!pip install pyspark"
      ],
      "metadata": {
        "colab": {
          "base_uri": "https://localhost:8080/"
        },
        "id": "4fzMsF4Q-zgU",
        "outputId": "71108c56-116c-4ca1-f3ed-f0aa7abb6905"
      },
      "execution_count": 120,
      "outputs": [
        {
          "output_type": "stream",
          "name": "stdout",
          "text": [
            "Looking in indexes: https://pypi.org/simple, https://us-python.pkg.dev/colab-wheels/public/simple/\n",
            "Requirement already satisfied: pyspark in /usr/local/lib/python3.7/dist-packages (3.3.0)\n",
            "Requirement already satisfied: py4j==0.10.9.5 in /usr/local/lib/python3.7/dist-packages (from pyspark) (0.10.9.5)\n"
          ]
        }
      ]
    },
    {
      "cell_type": "code",
      "source": [
        "import findspark\n",
        "findspark.init()"
      ],
      "metadata": {
        "id": "eX1UboHL_Wq3"
      },
      "execution_count": 121,
      "outputs": []
    },
    {
      "cell_type": "code",
      "source": [
        "from pyspark.sql import SparkSession\n",
        "\n",
        "spark = SparkSession.builder.master('local[*]').getOrCreate()"
      ],
      "metadata": {
        "id": "411QIul4_Ygf"
      },
      "execution_count": 122,
      "outputs": []
    },
    {
      "cell_type": "code",
      "source": [
        "spark"
      ],
      "metadata": {
        "colab": {
          "base_uri": "https://localhost:8080/",
          "height": 0
        },
        "id": "ig_8XhMT_u9O",
        "outputId": "d7641f15-e893-4fb3-906d-97fc8d6638c4"
      },
      "execution_count": 123,
      "outputs": [
        {
          "output_type": "execute_result",
          "data": {
            "text/plain": [
              "<pyspark.sql.session.SparkSession at 0x7f6177360690>"
            ],
            "text/html": [
              "\n",
              "            <div>\n",
              "                <p><b>SparkSession - in-memory</b></p>\n",
              "                \n",
              "        <div>\n",
              "            <p><b>SparkContext</b></p>\n",
              "\n",
              "            <p><a href=\"http://2f5107cd9d35:4040\">Spark UI</a></p>\n",
              "\n",
              "            <dl>\n",
              "              <dt>Version</dt>\n",
              "                <dd><code>v3.3.0</code></dd>\n",
              "              <dt>Master</dt>\n",
              "                <dd><code>local[*]</code></dd>\n",
              "              <dt>AppName</dt>\n",
              "                <dd><code>pyspark-shell</code></dd>\n",
              "            </dl>\n",
              "        </div>\n",
              "        \n",
              "            </div>\n",
              "        "
            ]
          },
          "metadata": {},
          "execution_count": 123
        }
      ]
    },
    {
      "cell_type": "markdown",
      "source": [
        "#Download Data & Preparation"
      ],
      "metadata": {
        "id": "I1_HjpFtACX1"
      }
    },
    {
      "cell_type": "code",
      "source": [
        "!wget https://d37ci6vzurychx.cloudfront.net/trip-data/yellow_tripdata_2021-02.parquet"
      ],
      "metadata": {
        "colab": {
          "base_uri": "https://localhost:8080/"
        },
        "id": "xuuh742wAKcQ",
        "outputId": "c4c42c13-1550-4ff3-a8cd-b81b398f12c9"
      },
      "execution_count": 124,
      "outputs": [
        {
          "output_type": "stream",
          "name": "stdout",
          "text": [
            "--2022-10-03 15:37:36--  https://d37ci6vzurychx.cloudfront.net/trip-data/yellow_tripdata_2021-02.parquet\n",
            "Resolving d37ci6vzurychx.cloudfront.net (d37ci6vzurychx.cloudfront.net)... 65.9.84.11, 65.9.84.37, 65.9.84.167, ...\n",
            "Connecting to d37ci6vzurychx.cloudfront.net (d37ci6vzurychx.cloudfront.net)|65.9.84.11|:443... connected.\n",
            "HTTP request sent, awaiting response... 200 OK\n",
            "Length: 21777258 (21M) [application/x-www-form-urlencoded]\n",
            "Saving to: ‘yellow_tripdata_2021-02.parquet.2’\n",
            "\n",
            "yellow_tripdata_202 100%[===================>]  20.77M  71.6MB/s    in 0.3s    \n",
            "\n",
            "2022-10-03 15:37:36 (71.6 MB/s) - ‘yellow_tripdata_2021-02.parquet.2’ saved [21777258/21777258]\n",
            "\n"
          ]
        }
      ]
    },
    {
      "cell_type": "code",
      "source": [
        "!wget https://d37ci6vzurychx.cloudfront.net/trip-data/green_tripdata_2021-02.parquet"
      ],
      "metadata": {
        "colab": {
          "base_uri": "https://localhost:8080/"
        },
        "id": "ffLV2pEOBAJn",
        "outputId": "47965baf-6880-4e90-8f46-7dd90f88f9f7"
      },
      "execution_count": 125,
      "outputs": [
        {
          "output_type": "stream",
          "name": "stdout",
          "text": [
            "--2022-10-03 15:37:36--  https://d37ci6vzurychx.cloudfront.net/trip-data/green_tripdata_2021-02.parquet\n",
            "Resolving d37ci6vzurychx.cloudfront.net (d37ci6vzurychx.cloudfront.net)... 65.9.84.11, 65.9.84.37, 65.9.84.167, ...\n",
            "Connecting to d37ci6vzurychx.cloudfront.net (d37ci6vzurychx.cloudfront.net)|65.9.84.11|:443... connected.\n",
            "HTTP request sent, awaiting response... 200 OK\n",
            "Length: 1145679 (1.1M) [binary/octet-stream]\n",
            "Saving to: ‘green_tripdata_2021-02.parquet.3’\n",
            "\n",
            "\r          green_tri   0%[                    ]       0  --.-KB/s               \rgreen_tripdata_2021 100%[===================>]   1.09M  --.-KB/s    in 0.02s   \n",
            "\n",
            "2022-10-03 15:37:36 (43.9 MB/s) - ‘green_tripdata_2021-02.parquet.3’ saved [1145679/1145679]\n",
            "\n"
          ]
        }
      ]
    },
    {
      "cell_type": "code",
      "source": [
        "!wget https://d37ci6vzurychx.cloudfront.net/trip-data/fhv_tripdata_2021-02.parquet"
      ],
      "metadata": {
        "colab": {
          "base_uri": "https://localhost:8080/"
        },
        "id": "mDmQOWMxBWas",
        "outputId": "e7d8998d-b468-4ebd-a353-282d6f34c0ae"
      },
      "execution_count": 126,
      "outputs": [
        {
          "output_type": "stream",
          "name": "stdout",
          "text": [
            "--2022-10-03 15:37:37--  https://d37ci6vzurychx.cloudfront.net/trip-data/fhv_tripdata_2021-02.parquet\n",
            "Resolving d37ci6vzurychx.cloudfront.net (d37ci6vzurychx.cloudfront.net)... 65.9.84.11, 65.9.84.37, 65.9.84.167, ...\n",
            "Connecting to d37ci6vzurychx.cloudfront.net (d37ci6vzurychx.cloudfront.net)|65.9.84.11|:443... connected.\n",
            "HTTP request sent, awaiting response... 200 OK\n",
            "Length: 10645466 (10M) [binary/octet-stream]\n",
            "Saving to: ‘fhv_tripdata_2021-02.parquet.2’\n",
            "\n",
            "fhv_tripdata_2021-0 100%[===================>]  10.15M  52.5MB/s    in 0.2s    \n",
            "\n",
            "2022-10-03 15:37:37 (52.5 MB/s) - ‘fhv_tripdata_2021-02.parquet.2’ saved [10645466/10645466]\n",
            "\n"
          ]
        }
      ]
    },
    {
      "cell_type": "code",
      "source": [
        "df_yellow = spark.read.parquet('yellow_tripdata_2021-02.parquet')\n",
        "df_green = spark.read.parquet('green_tripdata_2021-02.parquet')\n",
        "df_fhv = spark.read.parquet('fhv_tripdata_2021-02.parquet')"
      ],
      "metadata": {
        "id": "0w7AKhyGBvaG"
      },
      "execution_count": 127,
      "outputs": []
    },
    {
      "cell_type": "code",
      "source": [
        "df_yellow.show()\n",
        "df_green.show()\n",
        "df_fhv.show()"
      ],
      "metadata": {
        "colab": {
          "base_uri": "https://localhost:8080/"
        },
        "id": "J2yOLqJfCH1B",
        "outputId": "88a1236e-13d5-44e2-85d0-fd6ae8cbd6df"
      },
      "execution_count": 128,
      "outputs": [
        {
          "output_type": "stream",
          "name": "stdout",
          "text": [
            "+--------+--------------------+---------------------+---------------+-------------+----------+------------------+------------+------------+------------+-----------+-----+-------+----------+------------+---------------------+------------+--------------------+-----------+\n",
            "|VendorID|tpep_pickup_datetime|tpep_dropoff_datetime|passenger_count|trip_distance|RatecodeID|store_and_fwd_flag|PULocationID|DOLocationID|payment_type|fare_amount|extra|mta_tax|tip_amount|tolls_amount|improvement_surcharge|total_amount|congestion_surcharge|airport_fee|\n",
            "+--------+--------------------+---------------------+---------------+-------------+----------+------------------+------------+------------+------------+-----------+-----+-------+----------+------------+---------------------+------------+--------------------+-----------+\n",
            "|       1| 2021-02-01 00:40:47|  2021-02-01 00:48:28|            1.0|          2.3|       1.0|                 N|         141|         226|           2|        8.5|  3.0|    0.5|       0.0|         0.0|                  0.3|        12.3|                 2.5|       null|\n",
            "|       1| 2021-02-01 00:07:44|  2021-02-01 00:20:31|            1.0|          1.6|       1.0|                 N|          43|         263|           2|        9.5|  3.0|    0.5|       0.0|         0.0|                  0.3|        13.3|                 0.0|       null|\n",
            "|       1| 2021-02-01 00:59:36|  2021-02-01 01:24:13|            1.0|          5.3|       1.0|                 N|         114|         263|           2|       19.0|  3.0|    0.5|       0.0|         0.0|                  0.3|        22.8|                 2.5|       null|\n",
            "|       2| 2021-02-01 00:03:26|  2021-02-01 00:16:32|            1.0|         2.79|       1.0|                 N|         236|         229|           1|       11.0|  0.5|    0.5|      2.96|         0.0|                  0.3|       17.76|                 2.5|       null|\n",
            "|       2| 2021-02-01 00:20:20|  2021-02-01 00:24:03|            2.0|         0.64|       1.0|                 N|         229|         140|           1|        4.5|  0.5|    0.5|      1.66|         0.0|                  0.3|        9.96|                 2.5|       null|\n",
            "|       2| 2021-02-01 00:55:03|  2021-02-01 01:03:39|            1.0|         1.97|       1.0|                 N|         238|          75|           1|        8.5|  0.5|    0.5|      1.96|         0.0|                  0.3|       11.76|                 0.0|       null|\n",
            "|       1| 2021-02-01 00:09:22|  2021-02-01 00:53:48|            1.0|         26.6|       1.0|                 N|         132|         200|           1|       69.0|  0.5|    0.5|       0.0|        6.12|                  0.3|       76.42|                 0.0|       null|\n",
            "|       2| 2021-02-01 00:52:15|  2021-02-01 01:16:24|            4.0|         6.07|       1.0|                 N|         249|         181|           1|       21.0|  0.5|    0.5|       6.2|         0.0|                  0.3|        31.0|                 2.5|       null|\n",
            "|       1| 2021-02-01 00:08:29|  2021-02-01 00:21:22|            1.0|          2.0|       1.0|                 N|          79|         246|           1|        9.0|  3.0|    0.5|       3.2|         0.0|                  0.3|        16.0|                 2.5|       null|\n",
            "|       1| 2021-02-01 00:28:13|  2021-02-01 00:31:40|            1.0|          0.8|       1.0|                 Y|          75|          74|           2|        5.0|  0.5|    0.5|       0.0|         0.0|                  0.3|         6.3|                 0.0|       null|\n",
            "|       1| 2021-02-01 00:17:42|  2021-02-01 00:28:23|            1.0|          2.1|       1.0|                 N|          74|          24|           2|        9.0|  0.5|    0.5|       0.0|         0.0|                  0.3|        10.3|                 0.0|       null|\n",
            "|       1| 2021-02-01 00:25:10|  2021-02-01 00:25:38|            1.0|          0.0|       1.0|                 N|         113|         113|           4|        2.5|  3.0|    0.5|       0.0|         0.0|                  0.3|         6.3|                 2.5|       null|\n",
            "|       1| 2021-02-01 00:23:48|  2021-02-01 00:34:59|            1.0|          2.8|       1.0|                 N|          90|         229|           1|       11.0|  3.0|    0.5|       3.7|         0.0|                  0.3|        18.5|                 2.5|       null|\n",
            "|       2| 2021-02-01 00:18:31|  2021-02-01 00:46:45|            1.0|         8.08|       1.0|                 N|          75|          88|           1|       26.5|  0.5|    0.5|      6.06|         0.0|                  0.3|       36.36|                 2.5|       null|\n",
            "|       2| 2021-02-01 00:33:38|  2021-02-01 00:55:59|            2.0|         6.41|       1.0|                 N|         132|         122|           2|       21.0|  0.5|    0.5|       0.0|         0.0|                  0.3|        22.3|                 0.0|       null|\n",
            "|       2| 2021-02-01 00:34:13|  2021-02-01 00:42:13|            1.0|         1.53|       1.0|                 N|         170|          48|           2|        7.5|  0.5|    0.5|       0.0|         0.0|                  0.3|        11.3|                 2.5|       null|\n",
            "|       1| 2021-02-01 00:33:17|  2021-02-01 00:33:17|            1.0|          0.0|       5.0|                 Y|         260|         264|           2|        0.0|  0.0|    0.0|       0.0|         0.0|                  0.0|         0.0|                 0.0|       null|\n",
            "|       2| 2021-02-01 00:17:53|  2021-02-01 00:30:23|            1.0|         2.72|       1.0|                 N|         142|          90|           1|       11.0|  0.5|    0.5|      2.96|         0.0|                  0.3|       17.76|                 2.5|       null|\n",
            "|       2| 2021-02-01 00:38:17|  2021-02-01 00:46:53|            1.0|         1.72|       1.0|                 N|          68|         249|           1|        7.5|  0.5|    0.5|      2.26|         0.0|                  0.3|       13.56|                 2.5|       null|\n",
            "|       2| 2021-02-01 00:06:33|  2021-02-01 00:13:56|            1.0|         2.42|       1.0|                 N|          79|         256|           4|       -9.0| -0.5|   -0.5|       0.0|         0.0|                 -0.3|       -12.8|                -2.5|       null|\n",
            "+--------+--------------------+---------------------+---------------+-------------+----------+------------------+------------+------------+------------+-----------+-----+-------+----------+------------+---------------------+------------+--------------------+-----------+\n",
            "only showing top 20 rows\n",
            "\n",
            "+--------+--------------------+---------------------+------------------+----------+------------+------------+---------------+-------------+-----------+-----+-------+----------+------------+---------+---------------------+------------+------------+---------+--------------------+\n",
            "|VendorID|lpep_pickup_datetime|lpep_dropoff_datetime|store_and_fwd_flag|RatecodeID|PULocationID|DOLocationID|passenger_count|trip_distance|fare_amount|extra|mta_tax|tip_amount|tolls_amount|ehail_fee|improvement_surcharge|total_amount|payment_type|trip_type|congestion_surcharge|\n",
            "+--------+--------------------+---------------------+------------------+----------+------------+------------+---------------+-------------+-----------+-----+-------+----------+------------+---------+---------------------+------------+------------+---------+--------------------+\n",
            "|       2| 2021-02-01 00:34:03|  2021-02-01 00:51:58|                 N|       1.0|         130|         205|            5.0|         3.66|       14.0|  0.5|    0.5|      10.0|         0.0|     null|                  0.3|        25.3|         1.0|      1.0|                 0.0|\n",
            "|       2| 2021-02-01 00:04:00|  2021-02-01 00:10:30|                 N|       1.0|         152|         244|            1.0|          1.1|        6.5|  0.5|    0.5|       0.0|         0.0|     null|                  0.3|         7.8|         2.0|      1.0|                 0.0|\n",
            "|       2| 2021-02-01 00:18:51|  2021-02-01 00:34:06|                 N|       1.0|         152|          48|            1.0|         4.93|       16.5|  0.5|    0.5|       0.0|         0.0|     null|                  0.3|       20.55|         2.0|      1.0|                2.75|\n",
            "|       2| 2021-02-01 00:53:27|  2021-02-01 01:11:41|                 N|       1.0|         152|         241|            1.0|          6.7|       21.0|  0.5|    0.5|       0.0|         0.0|     null|                  0.3|        22.3|         2.0|      1.0|                 0.0|\n",
            "|       2| 2021-02-01 00:57:46|  2021-02-01 01:06:44|                 N|       1.0|          75|          42|            1.0|         1.89|        8.5|  0.5|    0.5|      2.45|         0.0|     null|                  0.3|       12.25|         1.0|      1.0|                 0.0|\n",
            "|       2| 2021-02-01 00:33:03|  2021-02-01 00:40:54|                 N|       5.0|         197|         219|            1.0|          3.3|       15.0|  0.0|    0.0|      0.76|         0.0|     null|                  0.3|       16.06|         1.0|      2.0|                 0.0|\n",
            "|       2| 2021-02-01 00:18:43|  2021-02-01 00:28:25|                 N|       1.0|          82|         223|            1.0|         2.51|       10.0|  0.5|    0.5|       1.5|         0.0|     null|                  0.3|        12.8|         1.0|      1.0|                 0.0|\n",
            "|       2| 2021-02-01 00:06:50|  2021-02-01 00:18:07|                 N|       1.0|         130|         130|            1.0|         1.68|        9.0|  0.5|    0.5|      5.08|         0.0|     null|                  0.3|       15.38|         1.0|      1.0|                 0.0|\n",
            "|       2| 2021-02-01 01:25:20|  2021-02-01 01:34:04|                 N|       1.0|          94|         241|            1.0|         1.44|        7.5|  0.5|    0.5|       0.0|         0.0|     null|                  0.3|         8.8|         2.0|      1.0|                 0.0|\n",
            "|       2| 2021-02-01 02:56:55|  2021-02-01 02:58:38|                 N|       5.0|          78|          78|            1.0|          0.0|       24.0|  0.0|    0.0|       0.0|         0.0|     null|                  0.3|        24.3|         2.0|      2.0|                 0.0|\n",
            "|       2| 2021-02-01 02:53:46|  2021-02-01 03:05:34|                 N|       1.0|         181|         195|            1.0|          1.9|        9.0|  0.5|    0.5|       0.0|         0.0|     null|                  0.3|        10.3|         2.0|      1.0|                 0.0|\n",
            "|       2| 2021-02-01 02:34:48|  2021-02-01 02:44:34|                 N|       1.0|         127|         241|            1.0|          1.9|        9.5|  0.5|    0.5|       0.0|         0.0|     null|                  0.3|        10.8|         1.0|      1.0|                 0.0|\n",
            "|       2| 2021-02-01 02:32:28|  2021-02-01 02:42:36|                 N|       1.0|          75|         238|            1.0|         1.73|        8.5|  0.5|    0.5|       0.0|         0.0|     null|                  0.3|       12.55|         2.0|      1.0|                2.75|\n",
            "|       2| 2021-02-01 03:40:41|  2021-02-01 03:44:49|                 N|       1.0|         152|         116|            2.0|         0.94|        5.5|  0.5|    0.5|       0.0|         0.0|     null|                  0.3|         6.8|         2.0|      1.0|                 0.0|\n",
            "|       2| 2021-02-01 03:58:34|  2021-02-01 04:06:28|                 N|       1.0|         244|         235|            1.0|         3.24|       11.0|  0.5|    0.5|       0.0|         0.0|     null|                  0.3|        12.3|         2.0|      1.0|                 0.0|\n",
            "|       2| 2021-02-01 04:46:50|  2021-02-01 04:55:50|                 N|       1.0|         244|         247|            1.0|         1.67|        8.5|  0.5|    0.5|       0.0|         0.0|     null|                  0.3|         9.8|         2.0|      1.0|                 0.0|\n",
            "|       2| 2021-02-01 04:59:12|  2021-02-01 05:05:25|                 N|       1.0|         169|         119|            1.0|          1.2|        6.5|  0.5|    0.5|       0.0|         0.0|     null|                  0.3|         7.8|         2.0|      1.0|                 0.0|\n",
            "|       2| 2021-02-01 03:59:27|  2021-02-01 03:59:34|                 N|       5.0|         136|         136|            1.0|         0.19|       10.0|  0.0|    0.0|       0.3|         0.0|     null|                  0.3|        10.6|         1.0|      2.0|                 0.0|\n",
            "|       2| 2021-02-01 04:09:11|  2021-02-01 04:09:15|                 N|       5.0|         116|         116|            2.0|          0.0|        7.0|  0.0|    0.0|       0.0|         0.0|     null|                  0.3|         7.3|         2.0|      2.0|                 0.0|\n",
            "|       2| 2021-02-01 05:11:56|  2021-02-01 05:17:39|                 N|       1.0|         119|         243|            1.0|         0.93|        6.0|  0.5|    0.5|       0.0|         0.0|     null|                  0.3|         7.3|         2.0|      1.0|                 0.0|\n",
            "+--------+--------------------+---------------------+------------------+----------+------------+------------+---------------+-------------+-----------+-----+-------+----------+------------+---------+---------------------+------------+------------+---------+--------------------+\n",
            "only showing top 20 rows\n",
            "\n",
            "+--------------------+-------------------+-------------------+------------+------------+-------+----------------------+\n",
            "|dispatching_base_num|    pickup_datetime|   dropOff_datetime|PUlocationID|DOlocationID|SR_Flag|Affiliated_base_number|\n",
            "+--------------------+-------------------+-------------------+------------+------------+-------+----------------------+\n",
            "|              B00013|2021-02-01 00:01:00|2021-02-01 01:33:00|        null|        null|   null|                B00014|\n",
            "|     B00021         |2021-02-01 00:55:40|2021-02-01 01:06:20|       173.0|        82.0|   null|       B00021         |\n",
            "|     B00021         |2021-02-01 00:14:03|2021-02-01 00:28:37|       173.0|        56.0|   null|       B00021         |\n",
            "|     B00021         |2021-02-01 00:27:48|2021-02-01 00:35:45|        82.0|       129.0|   null|       B00021         |\n",
            "|              B00037|2021-02-01 00:12:50|2021-02-01 00:26:38|        null|       225.0|   null|                B00037|\n",
            "|              B00037|2021-02-01 00:00:37|2021-02-01 00:09:35|        null|        61.0|   null|                B00037|\n",
            "|              B00112|2021-02-01 00:30:25|2021-02-01 00:57:23|        null|        26.0|   null|                B00112|\n",
            "|              B00149|2021-02-01 00:43:16|2021-02-01 01:03:16|        null|        72.0|   null|                B00149|\n",
            "|              B00221|2021-02-01 00:20:45|2021-02-01 00:21:15|        null|       244.0|   null|                B00221|\n",
            "|              B00225|2021-02-01 00:23:27|2021-02-01 00:55:46|        null|       169.0|   null|                B00225|\n",
            "|              B00225|2021-02-01 00:10:38|2021-02-01 00:50:15|        null|       161.0|   null|                B02872|\n",
            "|              B00254|2021-02-01 00:05:46|2021-02-01 00:40:41|        13.0|       182.0|   null|                B00254|\n",
            "|              B00254|2021-02-01 00:14:25|2021-02-01 00:24:56|       152.0|       244.0|   null|                B02872|\n",
            "|              B00256|2021-02-01 00:30:43|2021-02-01 01:32:39|        null|        null|   null|                B00256|\n",
            "|              B00256|2021-02-01 00:39:11|2021-02-01 01:18:44|        null|        null|   null|                B00256|\n",
            "|              B00256|2021-02-01 00:33:24|2021-02-01 01:23:44|        null|        null|   null|                B00256|\n",
            "|              B00256|2021-02-01 00:05:19|2021-02-01 00:24:40|        null|        null|   null|                B00256|\n",
            "|              B00271|2021-02-01 00:04:07|2021-02-01 01:03:03|        null|       265.0|   null|                B00271|\n",
            "|              B00271|2021-02-01 00:07:13|2021-02-01 00:08:49|        null|       237.0|   null|                B00271|\n",
            "|              B00310|2021-02-01 00:11:21|2021-02-01 00:15:44|        null|       248.0|   null|                B00310|\n",
            "+--------------------+-------------------+-------------------+------------+------------+-------+----------------------+\n",
            "only showing top 20 rows\n",
            "\n"
          ]
        }
      ]
    },
    {
      "cell_type": "code",
      "source": [
        "df_yellow = df_yellow.withColumnRenamed('tpep_pickup_datetime', 'pickup_datetime').withColumnRenamed('tpep_dropoff_datetime', 'dropoff_datetime')\n",
        "df_green = df_green.withColumnRenamed('lpep_pickup_datetime', 'pickup_datetime').withColumnRenamed('lpep_dropoff_datetime', 'dropoff_datetime')"
      ],
      "metadata": {
        "id": "ClU6id9YEeMh"
      },
      "execution_count": 129,
      "outputs": []
    },
    {
      "cell_type": "code",
      "source": [
        "common_colums = []\n",
        "\n",
        "yellow_columns = set(df_yellow.columns)\n",
        "\n",
        "for col in df_green.columns:\n",
        "    if col in yellow_columns:\n",
        "        common_colums.append(col)"
      ],
      "metadata": {
        "id": "XR5iCyr1X7L4"
      },
      "execution_count": 130,
      "outputs": []
    },
    {
      "cell_type": "code",
      "source": [
        "common_colums"
      ],
      "metadata": {
        "colab": {
          "base_uri": "https://localhost:8080/"
        },
        "id": "Ltx8-OiaDUXJ",
        "outputId": "0ea753a7-1b1b-4920-da9c-33455bfcc5be"
      },
      "execution_count": 131,
      "outputs": [
        {
          "output_type": "execute_result",
          "data": {
            "text/plain": [
              "['VendorID',\n",
              " 'pickup_datetime',\n",
              " 'dropoff_datetime',\n",
              " 'store_and_fwd_flag',\n",
              " 'RatecodeID',\n",
              " 'PULocationID',\n",
              " 'DOLocationID',\n",
              " 'passenger_count',\n",
              " 'trip_distance',\n",
              " 'fare_amount',\n",
              " 'extra',\n",
              " 'mta_tax',\n",
              " 'tip_amount',\n",
              " 'tolls_amount',\n",
              " 'improvement_surcharge',\n",
              " 'total_amount',\n",
              " 'payment_type',\n",
              " 'congestion_surcharge']"
            ]
          },
          "metadata": {},
          "execution_count": 131
        }
      ]
    },
    {
      "cell_type": "code",
      "source": [
        "from pyspark.sql import functions as f"
      ],
      "metadata": {
        "id": "Z481NH_OIWrD"
      },
      "execution_count": 132,
      "outputs": []
    },
    {
      "cell_type": "code",
      "source": [
        "df_yellow_sel = df_yellow.select(common_colums).withColumn('service_type', f.lit('yellow'))\n",
        "df_green_sel = df_green.select(common_colums).withColumn('service_type', f.lit('green'))"
      ],
      "metadata": {
        "id": "UQUxDbEfIhDF"
      },
      "execution_count": 133,
      "outputs": []
    },
    {
      "cell_type": "code",
      "source": [
        "df_join = df_yellow_sel.unionAll(df_green_sel)"
      ],
      "metadata": {
        "id": "xZyKDUgeIwXD"
      },
      "execution_count": 134,
      "outputs": []
    },
    {
      "cell_type": "code",
      "source": [
        "df_join.show()"
      ],
      "metadata": {
        "colab": {
          "base_uri": "https://localhost:8080/"
        },
        "id": "JDoIpTmQI2e2",
        "outputId": "28b25c08-be6c-49a2-e169-252399e52242"
      },
      "execution_count": 135,
      "outputs": [
        {
          "output_type": "stream",
          "name": "stdout",
          "text": [
            "+--------+-------------------+-------------------+------------------+----------+------------+------------+---------------+-------------+-----------+-----+-------+----------+------------+---------------------+------------+------------+--------------------+------------+\n",
            "|VendorID|    pickup_datetime|   dropoff_datetime|store_and_fwd_flag|RatecodeID|PULocationID|DOLocationID|passenger_count|trip_distance|fare_amount|extra|mta_tax|tip_amount|tolls_amount|improvement_surcharge|total_amount|payment_type|congestion_surcharge|service_type|\n",
            "+--------+-------------------+-------------------+------------------+----------+------------+------------+---------------+-------------+-----------+-----+-------+----------+------------+---------------------+------------+------------+--------------------+------------+\n",
            "|       1|2021-02-01 00:40:47|2021-02-01 00:48:28|                 N|       1.0|         141|         226|            1.0|          2.3|        8.5|  3.0|    0.5|       0.0|         0.0|                  0.3|        12.3|         2.0|                 2.5|      yellow|\n",
            "|       1|2021-02-01 00:07:44|2021-02-01 00:20:31|                 N|       1.0|          43|         263|            1.0|          1.6|        9.5|  3.0|    0.5|       0.0|         0.0|                  0.3|        13.3|         2.0|                 0.0|      yellow|\n",
            "|       1|2021-02-01 00:59:36|2021-02-01 01:24:13|                 N|       1.0|         114|         263|            1.0|          5.3|       19.0|  3.0|    0.5|       0.0|         0.0|                  0.3|        22.8|         2.0|                 2.5|      yellow|\n",
            "|       2|2021-02-01 00:03:26|2021-02-01 00:16:32|                 N|       1.0|         236|         229|            1.0|         2.79|       11.0|  0.5|    0.5|      2.96|         0.0|                  0.3|       17.76|         1.0|                 2.5|      yellow|\n",
            "|       2|2021-02-01 00:20:20|2021-02-01 00:24:03|                 N|       1.0|         229|         140|            2.0|         0.64|        4.5|  0.5|    0.5|      1.66|         0.0|                  0.3|        9.96|         1.0|                 2.5|      yellow|\n",
            "|       2|2021-02-01 00:55:03|2021-02-01 01:03:39|                 N|       1.0|         238|          75|            1.0|         1.97|        8.5|  0.5|    0.5|      1.96|         0.0|                  0.3|       11.76|         1.0|                 0.0|      yellow|\n",
            "|       1|2021-02-01 00:09:22|2021-02-01 00:53:48|                 N|       1.0|         132|         200|            1.0|         26.6|       69.0|  0.5|    0.5|       0.0|        6.12|                  0.3|       76.42|         1.0|                 0.0|      yellow|\n",
            "|       2|2021-02-01 00:52:15|2021-02-01 01:16:24|                 N|       1.0|         249|         181|            4.0|         6.07|       21.0|  0.5|    0.5|       6.2|         0.0|                  0.3|        31.0|         1.0|                 2.5|      yellow|\n",
            "|       1|2021-02-01 00:08:29|2021-02-01 00:21:22|                 N|       1.0|          79|         246|            1.0|          2.0|        9.0|  3.0|    0.5|       3.2|         0.0|                  0.3|        16.0|         1.0|                 2.5|      yellow|\n",
            "|       1|2021-02-01 00:28:13|2021-02-01 00:31:40|                 Y|       1.0|          75|          74|            1.0|          0.8|        5.0|  0.5|    0.5|       0.0|         0.0|                  0.3|         6.3|         2.0|                 0.0|      yellow|\n",
            "|       1|2021-02-01 00:17:42|2021-02-01 00:28:23|                 N|       1.0|          74|          24|            1.0|          2.1|        9.0|  0.5|    0.5|       0.0|         0.0|                  0.3|        10.3|         2.0|                 0.0|      yellow|\n",
            "|       1|2021-02-01 00:25:10|2021-02-01 00:25:38|                 N|       1.0|         113|         113|            1.0|          0.0|        2.5|  3.0|    0.5|       0.0|         0.0|                  0.3|         6.3|         4.0|                 2.5|      yellow|\n",
            "|       1|2021-02-01 00:23:48|2021-02-01 00:34:59|                 N|       1.0|          90|         229|            1.0|          2.8|       11.0|  3.0|    0.5|       3.7|         0.0|                  0.3|        18.5|         1.0|                 2.5|      yellow|\n",
            "|       2|2021-02-01 00:18:31|2021-02-01 00:46:45|                 N|       1.0|          75|          88|            1.0|         8.08|       26.5|  0.5|    0.5|      6.06|         0.0|                  0.3|       36.36|         1.0|                 2.5|      yellow|\n",
            "|       2|2021-02-01 00:33:38|2021-02-01 00:55:59|                 N|       1.0|         132|         122|            2.0|         6.41|       21.0|  0.5|    0.5|       0.0|         0.0|                  0.3|        22.3|         2.0|                 0.0|      yellow|\n",
            "|       2|2021-02-01 00:34:13|2021-02-01 00:42:13|                 N|       1.0|         170|          48|            1.0|         1.53|        7.5|  0.5|    0.5|       0.0|         0.0|                  0.3|        11.3|         2.0|                 2.5|      yellow|\n",
            "|       1|2021-02-01 00:33:17|2021-02-01 00:33:17|                 Y|       5.0|         260|         264|            1.0|          0.0|        0.0|  0.0|    0.0|       0.0|         0.0|                  0.0|         0.0|         2.0|                 0.0|      yellow|\n",
            "|       2|2021-02-01 00:17:53|2021-02-01 00:30:23|                 N|       1.0|         142|          90|            1.0|         2.72|       11.0|  0.5|    0.5|      2.96|         0.0|                  0.3|       17.76|         1.0|                 2.5|      yellow|\n",
            "|       2|2021-02-01 00:38:17|2021-02-01 00:46:53|                 N|       1.0|          68|         249|            1.0|         1.72|        7.5|  0.5|    0.5|      2.26|         0.0|                  0.3|       13.56|         1.0|                 2.5|      yellow|\n",
            "|       2|2021-02-01 00:06:33|2021-02-01 00:13:56|                 N|       1.0|          79|         256|            1.0|         2.42|       -9.0| -0.5|   -0.5|       0.0|         0.0|                 -0.3|       -12.8|         4.0|                -2.5|      yellow|\n",
            "+--------+-------------------+-------------------+------------------+----------+------------+------------+---------------+-------------+-----------+-----+-------+----------+------------+---------------------+------------+------------+--------------------+------------+\n",
            "only showing top 20 rows\n",
            "\n"
          ]
        }
      ]
    },
    {
      "cell_type": "markdown",
      "source": [
        "#1. How many taxi trips were there on February 15 ?"
      ],
      "metadata": {
        "id": "J3IAIlf3JYUq"
      }
    },
    {
      "cell_type": "code",
      "source": [
        "df_join"
      ],
      "metadata": {
        "colab": {
          "base_uri": "https://localhost:8080/"
        },
        "id": "_e0VstmOJ1Jp",
        "outputId": "83e22b90-8aa2-41a4-ec8b-9052b5d6f4a7"
      },
      "execution_count": 136,
      "outputs": [
        {
          "output_type": "execute_result",
          "data": {
            "text/plain": [
              "DataFrame[VendorID: bigint, pickup_datetime: timestamp, dropoff_datetime: timestamp, store_and_fwd_flag: string, RatecodeID: double, PULocationID: bigint, DOLocationID: bigint, passenger_count: double, trip_distance: double, fare_amount: double, extra: double, mta_tax: double, tip_amount: double, tolls_amount: double, improvement_surcharge: double, total_amount: double, payment_type: double, congestion_surcharge: double, service_type: string]"
            ]
          },
          "metadata": {},
          "execution_count": 136
        }
      ]
    },
    {
      "cell_type": "code",
      "source": [
        "df1 = df_join.withColumn('dropoff_datetime',f.to_date(df_join.dropoff_datetime)).filter((df_join['dropoff_datetime']>='2021-02-15')&(df_join['dropoff_datetime']<'2021-02-16')).select('dropoff_datetime').groupBy('dropoff_datetime').count()"
      ],
      "metadata": {
        "id": "_9wIRKKDKW4s"
      },
      "execution_count": 137,
      "outputs": []
    },
    {
      "cell_type": "code",
      "source": [
        "df1.show()"
      ],
      "metadata": {
        "colab": {
          "base_uri": "https://localhost:8080/"
        },
        "id": "0f0dKMp2Ksc-",
        "outputId": "6ac8a21a-8afc-4494-a364-a5d8b3e138d5"
      },
      "execution_count": 138,
      "outputs": [
        {
          "output_type": "stream",
          "name": "stdout",
          "text": [
            "+----------------+-----+\n",
            "|dropoff_datetime|count|\n",
            "+----------------+-----+\n",
            "|      2021-02-15|42170|\n",
            "+----------------+-----+\n",
            "\n"
          ]
        }
      ]
    },
    {
      "cell_type": "markdown",
      "source": [
        "#2. Find the longest trip for each day ?"
      ],
      "metadata": {
        "id": "xzrzKkFZK78O"
      }
    },
    {
      "cell_type": "code",
      "source": [
        "df2 = df_join.withColumn('pickup_datetime',f.to_date(df_join.pickup_datetime)).select('pickup_datetime','trip_distance').filter(df_join['pickup_datetime']>='2021-02-01').groupBy('pickup_datetime').max('trip_distance').sort('pickup_datetime')"
      ],
      "metadata": {
        "id": "azKYt5toLB0Y"
      },
      "execution_count": 139,
      "outputs": []
    },
    {
      "cell_type": "code",
      "source": [
        "df2.show(28)"
      ],
      "metadata": {
        "colab": {
          "base_uri": "https://localhost:8080/"
        },
        "id": "poTfjvGBLnbZ",
        "outputId": "95f3710d-2984-45ac-bb53-5391a245e8de"
      },
      "execution_count": 140,
      "outputs": [
        {
          "output_type": "stream",
          "name": "stdout",
          "text": [
            "+---------------+------------------+\n",
            "|pickup_datetime|max(trip_distance)|\n",
            "+---------------+------------------+\n",
            "|     2021-02-01|             38.89|\n",
            "|     2021-02-02|             73.24|\n",
            "|     2021-02-03|         186079.73|\n",
            "|     2021-02-04|             82.19|\n",
            "|     2021-02-05|          91134.16|\n",
            "|     2021-02-06|              43.5|\n",
            "|     2021-02-07|         186510.67|\n",
            "|     2021-02-08|         186617.92|\n",
            "|     2021-02-09|           60382.7|\n",
            "|     2021-02-10|           60382.7|\n",
            "|     2021-02-11|          43174.56|\n",
            "|     2021-02-12|          66659.27|\n",
            "|     2021-02-13|         115928.92|\n",
            "|     2021-02-14|             58.03|\n",
            "|     2021-02-15|             52.89|\n",
            "|     2021-02-16|         221188.25|\n",
            "|     2021-02-17|         140145.44|\n",
            "|     2021-02-18|             75.81|\n",
            "|     2021-02-19|              70.4|\n",
            "|     2021-02-20|         188054.03|\n",
            "|     2021-02-21|             55.87|\n",
            "|     2021-02-22|             49.56|\n",
            "|     2021-02-23|          30195.95|\n",
            "|     2021-02-24|          90073.44|\n",
            "|     2021-02-25|          50422.63|\n",
            "|     2021-02-26|          90796.21|\n",
            "|     2021-02-27|             91.05|\n",
            "|     2021-02-28|           72499.7|\n",
            "+---------------+------------------+\n",
            "only showing top 28 rows\n",
            "\n"
          ]
        }
      ]
    },
    {
      "cell_type": "markdown",
      "source": [
        "#3. Find Top 5 Most frequent `dispatching_base_num` ?"
      ],
      "metadata": {
        "id": "2GoUezihMrhz"
      }
    },
    {
      "cell_type": "code",
      "source": [
        "df3 = df_fhv.groupBy('dispatching_base_num').count().sort('count',ascending=False)"
      ],
      "metadata": {
        "id": "_edoBNLyM-Ex"
      },
      "execution_count": 141,
      "outputs": []
    },
    {
      "cell_type": "code",
      "source": [
        "df3.show(5)"
      ],
      "metadata": {
        "colab": {
          "base_uri": "https://localhost:8080/"
        },
        "id": "VKAUmXbFPH9F",
        "outputId": "8d809c6b-7409-404d-b68f-70df1064f6fd"
      },
      "execution_count": 142,
      "outputs": [
        {
          "output_type": "stream",
          "name": "stdout",
          "text": [
            "+--------------------+-----+\n",
            "|dispatching_base_num|count|\n",
            "+--------------------+-----+\n",
            "|              B00856|35077|\n",
            "|              B01312|33089|\n",
            "|              B01145|31114|\n",
            "|              B02794|30397|\n",
            "|              B03016|29794|\n",
            "+--------------------+-----+\n",
            "only showing top 5 rows\n",
            "\n"
          ]
        }
      ]
    },
    {
      "cell_type": "markdown",
      "source": [
        "#4. Find Top 5 Most common location pairs (PUlocationID and DOlocationID) ?"
      ],
      "metadata": {
        "id": "8iOQb5ZVUHd0"
      }
    },
    {
      "cell_type": "code",
      "source": [
        "df4 = df_fhv.filter('PUlocationID is not NULL AND DOlocationID is not NULL').groupBy(['PUlocationID','DOlocationID']).count().sort('count',ascending=False)"
      ],
      "metadata": {
        "id": "GUz22jc6URJM"
      },
      "execution_count": 143,
      "outputs": []
    },
    {
      "cell_type": "code",
      "source": [
        "df4.show(5)"
      ],
      "metadata": {
        "colab": {
          "base_uri": "https://localhost:8080/"
        },
        "id": "JdjklKIYU0zj",
        "outputId": "602fc82f-1d38-4da1-ef6d-a55843993c36"
      },
      "execution_count": 144,
      "outputs": [
        {
          "output_type": "stream",
          "name": "stdout",
          "text": [
            "+------------+------------+-----+\n",
            "|PUlocationID|DOlocationID|count|\n",
            "+------------+------------+-----+\n",
            "|       206.0|       206.0| 2374|\n",
            "|       221.0|       206.0| 2112|\n",
            "|       129.0|       129.0| 1902|\n",
            "|         7.0|         7.0| 1829|\n",
            "|       179.0|       179.0| 1736|\n",
            "+------------+------------+-----+\n",
            "only showing top 5 rows\n",
            "\n"
          ]
        }
      ]
    },
    {
      "cell_type": "markdown",
      "source": [
        "#5. Write all of the result to BigQuery table (additional - point plus)"
      ],
      "metadata": {
        "id": "7zbsiAaVcQAX"
      }
    },
    {
      "cell_type": "code",
      "source": [
        "df1.write.mode('overwrite').format('bigquery').save('Data Fellowship 7.schema.df_answer_1')"
      ],
      "metadata": {
        "id": "5DfWz8FIcWTA"
      },
      "execution_count": null,
      "outputs": []
    },
    {
      "cell_type": "code",
      "source": [
        "df2.write.mode('overwrite').format('bigquery').save('Data Fellowship 7.schema.df_answer_2')"
      ],
      "metadata": {
        "id": "_c9sW1u0fXeK"
      },
      "execution_count": null,
      "outputs": []
    },
    {
      "cell_type": "code",
      "source": [
        "df3.write.mode('overwrite').format('bigquery').save('Data Fellowship 7.schema.df_answer_3')"
      ],
      "metadata": {
        "id": "Ic2_Qdsqfc1R"
      },
      "execution_count": null,
      "outputs": []
    },
    {
      "cell_type": "code",
      "source": [
        "df4.write.mode('overwrite').format('bigquery').save('Data Fellowship 7.schema.df_answer_4')"
      ],
      "metadata": {
        "id": "uaZ87_3dfdkh"
      },
      "execution_count": null,
      "outputs": []
    }
  ]
}